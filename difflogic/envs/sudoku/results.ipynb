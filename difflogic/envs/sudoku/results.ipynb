{
 "cells": [
  {
   "cell_type": "markdown",
   "metadata": {},
   "source": [
    "# Project results analysis"
   ]
  },
  {
   "cell_type": "code",
   "execution_count": 1,
   "metadata": {},
   "outputs": [],
   "source": [
    "import pandas as pd"
   ]
  },
  {
   "cell_type": "markdown",
   "metadata": {},
   "source": [
    "## Results stated in paper"
   ]
  },
  {
   "cell_type": "markdown",
   "metadata": {},
   "source": [
    "### Training details\n",
    "| Problem       | Epochs | Batch Size | Loss       | Optimizer | LR    | RL Rewards | γ    |\n",
    "|---------------|--------|------------|------------|-----------|-------|------------|------|\n",
    "| Sudoku Puzzle | 50     | 4          | Softmax-CE | Adam      | 0.005 | +1,-0.01   | 0.99 |"
   ]
  },
  {
   "cell_type": "markdown",
   "metadata": {},
   "source": [
    "### Results for different parameters\n",
    "| No. of Empty Cells | Max. Steps | Success Rate |\n",
    "|---------------------|------------|--------------|\n",
    "| 3                   | 81         | 0.94         |\n",
    "| 3                   | 150        | 1.00         |\n",
    "| 3                   | 400        | 1.00         |\n",
    "| 3                   | 729        | 1.00         |\n",
    "| 5                   | 81         | 0.80         |\n",
    "| 5                   | 150        | 0.96         |\n",
    "| 5                   | 400        | 0.99         |\n",
    "| 5                   | 729        | 1.00         |\n",
    "| 8                   | 80         | 0.68         |\n",
    "| 8                   | 150        | 0.92         |\n",
    "| 8                   | 400        | 0.98         |\n",
    "| 8                   | 729        | 1.00         |\n"
   ]
  },
  {
   "cell_type": "markdown",
   "metadata": {},
   "source": [
    "## Reproduction results"
   ]
  },
  {
   "cell_type": "markdown",
   "metadata": {},
   "source": [
    "### Model trained for 50 epochs"
   ]
  },
  {
   "cell_type": "code",
   "execution_count": 26,
   "metadata": {},
   "outputs": [],
   "source": [
    "no_of_steps = [81, 150, 400, 729]\n",
    "no_empty_cells = [3, 5, 8]\n",
    "success_rate = [0.87, 0.96, 1.00, 1.00, 0.46, 0.85, 1.00, 1.00, 0.04, 0.32, 0.99, 1.00]"
   ]
  },
  {
   "cell_type": "code",
   "execution_count": 28,
   "metadata": {},
   "outputs": [],
   "source": [
    "# Repeat no_of_steps and no_empty_cells for each success_rate\n",
    "no_of_steps_repeated = no_of_steps * 3\n",
    "no_empty_cells_repeated = [item for item in no_empty_cells for _ in range(4)]\n",
    "\n",
    "# Create a dictionary where the keys are the column names and the values are the data\n",
    "data = {'No. of Empty Cells': no_empty_cells_repeated, 'Max. Steps': no_of_steps_repeated, 'Success Rate': success_rate}\n",
    "\n",
    "# Create the DataFrame\n",
    "df = pd.DataFrame(data)"
   ]
  },
  {
   "cell_type": "markdown",
   "metadata": {},
   "source": [
    "| No. of Empty Cells | Max. Steps | Success Rate |\n",
    "|---------------------|------------|--------------|\n",
    "| 3                   | 81         | 0.87         |\n",
    "| 3                   | 150        | 0.96         |\n",
    "| 3                   | 400        | 1.00         |\n",
    "| 3                   | 729        | 1.00         |\n",
    "| 5                   | 81         | 0.46         |\n",
    "| 5                   | 150        | 0.85         |\n",
    "| 5                   | 400        | 1.00         |\n",
    "| 5                   | 729        | 1.00         |\n",
    "| 8                   | 81         | 0.04         |\n",
    "| 8                   | 150        | 0.32         |\n",
    "| 8                   | 400        | 0.99         |\n",
    "| 8                   | 729        | 1.00         |\n"
   ]
  },
  {
   "cell_type": "markdown",
   "metadata": {},
   "source": [
    "## Comparison\n",
    "\n",
    "| No. of Empty Cells | Max. Steps | Success Rate | No. of Empty Cells | Max. Steps | Success Rate |\n",
    "|---------------------|------------|--------------|---------------------|------------|--------------|\n",
    "| 3                   | 81         | 0.94         | 3                   | 81         | 0.87         |\n",
    "| 3                   | 150        | 1.00         | 3                   | 150        | 0.96         |\n",
    "| 3                   | 400        | 1.00         | 3                   | 400        | 1.00         |\n",
    "| 3                   | 729        | 1.00         | 3                   | 729        | 1.00         |\n",
    "| 5                   | 81         | 0.80         | 5                   | 81         | 0.46         |\n",
    "| 5                   | 150        | 0.96         | 5                   | 150        | 0.85         |\n",
    "| 5                   | 400        | 0.99         | 5                   | 400        | 1.00         |\n",
    "| 5                   | 729        | 1.00         | 5                   | 729        | 1.00         |\n",
    "| 8                   | 80         | 0.68         | 8                   | 81         | 0.04         |\n",
    "| 8                   | 150        | 0.92         | 8                   | 150        | 0.32         |\n",
    "| 8                   | 400        | 0.98         | 8                   | 400        | 0.99         |\n",
    "| 8                   | 729        | 1.00         | 8                   | 729        | 1.00         |\n",
    "\n",
    "\n"
   ]
  }
 ],
 "metadata": {
  "kernelspec": {
   "display_name": "nlm",
   "language": "python",
   "name": "python3"
  },
  "language_info": {
   "codemirror_mode": {
    "name": "ipython",
    "version": 3
   },
   "file_extension": ".py",
   "mimetype": "text/x-python",
   "name": "python",
   "nbconvert_exporter": "python",
   "pygments_lexer": "ipython3",
   "version": "3.12.2"
  }
 },
 "nbformat": 4,
 "nbformat_minor": 2
}
